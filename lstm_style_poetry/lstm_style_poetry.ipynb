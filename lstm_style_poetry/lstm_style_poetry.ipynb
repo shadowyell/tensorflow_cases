{
 "cells": [
  {
   "cell_type": "markdown",
   "metadata": {
    "collapsed": true
   },
   "source": [
    "# Preprocessing of the poetry\n",
    "\n",
    "## Clean\n",
    "+ Split using symbol \":\", just the poetry itself\n",
    "+ Sort the poetry according to its length\n",
    "+ `Poetry` - cleaned data(5~79 words and no strange symbols)"
   ]
  },
  {
   "cell_type": "code",
   "execution_count": 138,
   "metadata": {
    "scrolled": false
   },
   "outputs": [
    {
     "name": "stdout",
     "output_type": "stream",
     "text": [
      "B寒随穷律变，春逐鸟声开。初风飘带柳，晚雪间花梅。碧林青旧竹，绿沼翠新苔。芝田初雁去，绮树巧莺来。E\n",
      "lines: 34646\n"
     ]
    }
   ],
   "source": [
    "poetry_file = \"poems.txt\"\n",
    "poetrys = []\n",
    "with open(poetry_file, \"r\", encoding=\"utf-8\") as f:\n",
    "    for line in f:\n",
    "        try:\n",
    "            title, content = line.strip().split(':')\n",
    "            content = content.replace(' ','')\n",
    "            if set('_(（《[') & set(content):\n",
    "                continue\n",
    "            if len(content) < 5 or len(content) > 79:\n",
    "                continue\n",
    "            content = 'B' + content + 'E'\n",
    "            poetrys.append(content)\n",
    "        except Exception as e:\n",
    "            pass\n",
    "        \n",
    "\n",
    "print(poetrys[0])\n",
    "print(\"lines:\", len(poetrys))"
   ]
  },
  {
   "cell_type": "markdown",
   "metadata": {},
   "source": [
    "## Dict and List Structrue for Post-use\n",
    "\n",
    "+ `words` - Sort word list in a descending way\n",
    "+ `counter` - Dict {word:counts}\n",
    "+ `word_int_map` - Dict {character:number}\n",
    "+ Add `' '` into the `words`"
   ]
  },
  {
   "cell_type": "code",
   "execution_count": 153,
   "metadata": {
    "collapsed": true
   },
   "outputs": [],
   "source": [
    "from collections import Counter\n",
    "\n",
    "all_words = [word for poetry in poetrys for word in poetry]\n",
    "counter = Counter(all_words)\n",
    "count_pairs = sorted(counter.items(), key=lambda x:-x[1])\n",
    "words, _ = zip(*count_pairs)\n",
    "words = words[:len(words)] + (' ',) \n",
    "word_int_map = dict(zip(words,range(len(words))))"
   ]
  },
  {
   "cell_type": "markdown",
   "metadata": {},
   "source": [
    "## Create peotry vector\n",
    "+ `poetry_vectors` - convert words into a vector, convert all poetrys into vectors"
   ]
  },
  {
   "cell_type": "code",
   "execution_count": 185,
   "metadata": {
    "scrolled": true
   },
   "outputs": [
    {
     "name": "stdout",
     "output_type": "stream",
     "text": [
      "[2, 50, 179, 394, 1081, 597, 0, 13, 351, 148, 59, 79, 1, 155, 7, 457, 310, 166, 0, 161, 99, 164, 12, 493, 1, 202, 118, 60, 121, 153, 0, 206, 1578, 238, 76, 385, 1, 1200, 373, 155, 251, 29, 0, 780, 69, 1486, 510, 14, 1, 3]\n"
     ]
    }
   ],
   "source": [
    "to_num = lambda word:word_int_map.get(word, len(words))\n",
    "poetry_vectors = [list(map(to_num, poetry)) for poetry in poetrys]\n",
    "print(poetry_vectors[0])"
   ]
  },
  {
   "cell_type": "markdown",
   "metadata": {},
   "source": [
    "## Create batches\n",
    "+ `x_batches` - the batched input\n",
    "+ `y_batches` - the batched output\n",
    "+ Poetry_vectors within a batch have the same length "
   ]
  },
  {
   "cell_type": "code",
   "execution_count": 198,
   "metadata": {},
   "outputs": [],
   "source": [
    "import numpy as np\n",
    "\n",
    "batch_size = 64\n",
    "n_chunk = len(poetry_vectors) // batch_size\n",
    "x_batches = []\n",
    "y_batches = []\n",
    "for i in range(n_chunk):\n",
    "    start_index = i * batch_size\n",
    "    end_index = start_index + batch_size\n",
    "    batches = poetry_vectors[start_index:end_index]\n",
    "    length = max(map(len, batches))\n",
    "    xdata = np.full((batch_size, length), word_int_map[' '], np.int32)\n",
    "    for row in range(batch_size):\n",
    "        xdata[row, :len(batches[row])] = batches[row]\n",
    "    ydata = np.copy(xdata)\n",
    "    ydata[:, :-1] = xdata[:, 1:]\n",
    "    \"\"\"\n",
    "    xdata             ydata\n",
    "    [6,2,4,6,9]       [2,4,6,9,9]\n",
    "    [1,4,2,8,5]       [4,2,8,5,5]\n",
    "    \"\"\"\n",
    "    x_batches.append(xdata)\n",
    "    y_batches.append(ydata)"
   ]
  },
  {
   "cell_type": "markdown",
   "metadata": {},
   "source": [
    "# Build the model"
   ]
  },
  {
   "cell_type": "code",
   "execution_count": null,
   "metadata": {
    "collapsed": true
   },
   "outputs": [],
   "source": []
  }
 ],
 "metadata": {
  "kernelspec": {
   "display_name": "Python 3",
   "language": "python",
   "name": "python3"
  },
  "language_info": {
   "codemirror_mode": {
    "name": "ipython",
    "version": 3
   },
   "file_extension": ".py",
   "mimetype": "text/x-python",
   "name": "python",
   "nbconvert_exporter": "python",
   "pygments_lexer": "ipython3",
   "version": "3.6.1"
  },
  "toc": {
   "colors": {
    "hover_highlight": "#DAA520",
    "navigate_num": "#000000",
    "navigate_text": "#333333",
    "running_highlight": "#FF0000",
    "selected_highlight": "#FFD700",
    "sidebar_border": "#EEEEEE",
    "wrapper_background": "#FFFFFF"
   },
   "moveMenuLeft": true,
   "nav_menu": {
    "height": "12px",
    "width": "252px"
   },
   "navigate_menu": true,
   "number_sections": false,
   "sideBar": true,
   "threshold": 4,
   "toc_cell": false,
   "toc_section_display": "block",
   "toc_window_display": false,
   "widenNotebook": false
  }
 },
 "nbformat": 4,
 "nbformat_minor": 2
}
