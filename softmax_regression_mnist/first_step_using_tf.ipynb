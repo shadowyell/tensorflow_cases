{
 "cells": [
  {
   "cell_type": "markdown",
   "metadata": {
    "toc": "true"
   },
   "source": [
    "# Table of Contents\n",
    " <p><div class=\"lev1 toc-item\"><a href=\"#Softmax-Regression-MNIST\" data-toc-modified-id=\"Softmax-Regression-MNIST-1\"><span class=\"toc-item-num\">1&nbsp;&nbsp;</span>Softmax Regression MNIST</a></div><div class=\"lev2 toc-item\"><a href=\"#Input-MNIST-DataSet\" data-toc-modified-id=\"Input-MNIST-DataSet-11\"><span class=\"toc-item-num\">1.1&nbsp;&nbsp;</span>Input MNIST DataSet</a></div><div class=\"lev2 toc-item\"><a href=\"#Define-Data-Structure\" data-toc-modified-id=\"Define-Data-Structure-12\"><span class=\"toc-item-num\">1.2&nbsp;&nbsp;</span>Define Data Structure</a></div><div class=\"lev2 toc-item\"><a href=\"#Forward-Propagation\" data-toc-modified-id=\"Forward-Propagation-13\"><span class=\"toc-item-num\">1.3&nbsp;&nbsp;</span>Forward Propagation</a></div><div class=\"lev2 toc-item\"><a href=\"#Define-The-Loss-Function\" data-toc-modified-id=\"Define-The-Loss-Function-14\"><span class=\"toc-item-num\">1.4&nbsp;&nbsp;</span>Define The Loss Function</a></div><div class=\"lev2 toc-item\"><a href=\"#Define-The-Optimizer-and-Initialize-The-Parameters\" data-toc-modified-id=\"Define-The-Optimizer-and-Initialize-The-Parameters-15\"><span class=\"toc-item-num\">1.5&nbsp;&nbsp;</span>Define The Optimizer and Initialize The Parameters</a></div><div class=\"lev2 toc-item\"><a href=\"#Run-The-Procedure\" data-toc-modified-id=\"Run-The-Procedure-16\"><span class=\"toc-item-num\">1.6&nbsp;&nbsp;</span>Run The Procedure</a></div><div class=\"lev2 toc-item\"><a href=\"#Test-The-Net\" data-toc-modified-id=\"Test-The-Net-17\"><span class=\"toc-item-num\">1.7&nbsp;&nbsp;</span>Test The Net</a></div><div class=\"lev1 toc-item\"><a href=\"#Summary\" data-toc-modified-id=\"Summary-2\"><span class=\"toc-item-num\">2&nbsp;&nbsp;</span>Summary</a></div>"
   ]
  },
  {
   "cell_type": "markdown",
   "metadata": {},
   "source": [
    "# Softmax Regression MNIST\n",
    "+ The first example from tensorflow book in Tensorflow实战."
   ]
  },
  {
   "cell_type": "markdown",
   "metadata": {},
   "source": [
    "## Input MNIST DataSet"
   ]
  },
  {
   "cell_type": "code",
   "execution_count": 13,
   "metadata": {
    "collapsed": true
   },
   "outputs": [],
   "source": [
    "from tensorflow.contrib.learn.python.learn.datasets.mnist import read_data_sets"
   ]
  },
  {
   "cell_type": "code",
   "execution_count": 14,
   "metadata": {},
   "outputs": [
    {
     "name": "stdout",
     "output_type": "stream",
     "text": [
      "Extracting MNIST_data/train-images-idx3-ubyte.gz\n",
      "Extracting MNIST_data/train-labels-idx1-ubyte.gz\n",
      "Extracting MNIST_data/t10k-images-idx3-ubyte.gz\n",
      "Extracting MNIST_data/t10k-labels-idx1-ubyte.gz\n"
     ]
    }
   ],
   "source": [
    "#from tensorflow.examples.tutorials.mnist import input_data for 1.3.0 version\n",
    "mnist = input_data.read_data_sets(\"MNIST_data/\", one_hot=True)"
   ]
  },
  {
   "cell_type": "code",
   "execution_count": 15,
   "metadata": {},
   "outputs": [
    {
     "name": "stdout",
     "output_type": "stream",
     "text": [
      "(55000, 784) (55000, 10)\n",
      "(10000, 784) (10000, 10)\n",
      "(5000, 784) (5000, 10)\n"
     ]
    }
   ],
   "source": [
    "# train, validation, test\n",
    "# imagesize 28*28\n",
    "print (mnist.train.images.shape, mnist.train.labels.shape)\n",
    "print (mnist.test.images.shape, mnist.test.labels.shape)\n",
    "print (mnist.validation.images.shape, mnist.validation.labels.shape)"
   ]
  },
  {
   "cell_type": "markdown",
   "metadata": {},
   "source": [
    "## Define Data Structure\n",
    "+ Interactive Session - Run codes in here, Independent zone for data and computation\n",
    "+ Placeholder - Place to input the data\n",
    "+ Define the weights and biases"
   ]
  },
  {
   "cell_type": "code",
   "execution_count": 16,
   "metadata": {},
   "outputs": [],
   "source": [
    "import tensorflow as tf\n",
    "sess = tf.InteractiveSession()\n",
    "x = tf.placeholder(tf.float32, [None, 784])\n",
    "W = tf.Variable(tf.zeros([784, 10]))\n",
    "b = tf.Variable(tf.zeros([10]))"
   ]
  },
  {
   "cell_type": "markdown",
   "metadata": {},
   "source": [
    "## Forward Propagation"
   ]
  },
  {
   "cell_type": "code",
   "execution_count": 17,
   "metadata": {
    "collapsed": true
   },
   "outputs": [],
   "source": [
    "y = tf.nn.softmax(tf.matmul(x, W) + b)"
   ]
  },
  {
   "cell_type": "markdown",
   "metadata": {},
   "source": [
    "## Define The Loss Function\n",
    "+ Placeholder - Place the true label\n",
    "+ Define Cross-Entropy NODE= $-\\sum_i{y_{true}\\log(y_{pred})}$"
   ]
  },
  {
   "cell_type": "code",
   "execution_count": 18,
   "metadata": {
    "collapsed": true
   },
   "outputs": [],
   "source": [
    "y_ = tf.placeholder(tf.float32, [None, 10])\n",
    "cross_entropy = tf.reduce_mean(-tf.reduce_sum(y_ * tf.log(y), reduction_indices=[1]))"
   ]
  },
  {
   "cell_type": "markdown",
   "metadata": {},
   "source": [
    "## Define The Optimizer and Initialize The Parameters\n",
    "+ Use GD and Define train_step NODE\n",
    "+ Use Global-variables-initializer"
   ]
  },
  {
   "cell_type": "code",
   "execution_count": 19,
   "metadata": {
    "collapsed": true
   },
   "outputs": [],
   "source": [
    "train_step = tf.train.GradientDescentOptimizer(0.5).minimize(cross_entropy)\n",
    "tf.global_variables_initializer().run()"
   ]
  },
  {
   "cell_type": "markdown",
   "metadata": {},
   "source": [
    "## Run The Procedure\n",
    "+ Batch Size = 100"
   ]
  },
  {
   "cell_type": "code",
   "execution_count": 55,
   "metadata": {
    "scrolled": false
   },
   "outputs": [],
   "source": [
    "for epoch in range(1000):\n",
    "    batch_xs, batch_ys = mnist.train.next_batch(100)\n",
    "    train_step.run({x:batch_xs, y_:batch_ys})"
   ]
  },
  {
   "cell_type": "markdown",
   "metadata": {},
   "source": [
    "## Test The Net\n",
    "+ Define the computation graph and NODE accuracy\n",
    "+ then use eval() to implement the procedure"
   ]
  },
  {
   "cell_type": "code",
   "execution_count": 56,
   "metadata": {
    "collapsed": true
   },
   "outputs": [],
   "source": [
    "correct_prediction = tf.equal(tf.argmax(y ,1), tf.argmax(y_, 1))\n",
    "accuracy = tf.reduce_mean(tf.cast(correct_prediction, tf.float32))"
   ]
  },
  {
   "cell_type": "code",
   "execution_count": 57,
   "metadata": {},
   "outputs": [
    {
     "name": "stdout",
     "output_type": "stream",
     "text": [
      "0.9227\n"
     ]
    }
   ],
   "source": [
    "print(accuracy.eval({x:mnist.test.images, y_:mnist.test.labels}))"
   ]
  },
  {
   "cell_type": "markdown",
   "metadata": {},
   "source": [
    "# Summary\n",
    "1. Define the propagation structure(computation graph)\n",
    "2. Define the loss function and the optimizer\n",
    "3. Training \n",
    "4. Testing"
   ]
  }
 ],
 "metadata": {
  "kernelspec": {
   "display_name": "Python 3",
   "language": "python",
   "name": "python3"
  },
  "language_info": {
   "codemirror_mode": {
    "name": "ipython",
    "version": 3
   },
   "file_extension": ".py",
   "mimetype": "text/x-python",
   "name": "python",
   "nbconvert_exporter": "python",
   "pygments_lexer": "ipython3",
   "version": "3.6.1"
  },
  "toc": {
   "colors": {
    "hover_highlight": "#DAA520",
    "navigate_num": "#000000",
    "navigate_text": "#333333",
    "running_highlight": "#FF0000",
    "selected_highlight": "#FFD700",
    "sidebar_border": "#EEEEEE",
    "wrapper_background": "#FFFFFF"
   },
   "moveMenuLeft": true,
   "nav_menu": {
    "height": "67px",
    "width": "252px"
   },
   "navigate_menu": true,
   "number_sections": false,
   "sideBar": true,
   "threshold": 4,
   "toc_cell": true,
   "toc_section_display": "block",
   "toc_window_display": true,
   "widenNotebook": false
  }
 },
 "nbformat": 4,
 "nbformat_minor": 2
}
